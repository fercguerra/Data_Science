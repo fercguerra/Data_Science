{
  "nbformat": 4,
  "nbformat_minor": 0,
  "metadata": {
    "colab": {
      "provenance": [],
      "authorship_tag": "ABX9TyOotB2urNpWTcDDkFHW+QWq",
      "include_colab_link": true
    },
    "kernelspec": {
      "name": "python3",
      "display_name": "Python 3"
    },
    "language_info": {
      "name": "python"
    }
  },
  "cells": [
    {
      "cell_type": "markdown",
      "metadata": {
        "id": "view-in-github",
        "colab_type": "text"
      },
      "source": [
        "<a href=\"https://colab.research.google.com/github/fercguerra/Data_Science/blob/main/Python_%5Bfaculdade%5D.ipynb\" target=\"_parent\"><img src=\"https://colab.research.google.com/assets/colab-badge.svg\" alt=\"Open In Colab\"/></a>"
      ]
    },
    {
      "cell_type": "code",
      "source": [
        "def ordenar_funcionarios(lista_funcionarios):\n",
        "    # Função para ordenar os funcionários com base nos códigos ou matrículas\n",
        "    return sorted(lista_funcionarios, key=lambda x: x[0])  # Substitua x[0] pelo índice correto se necessário\n",
        "\n",
        "# Exemplo de utilização\n",
        "funcionarios_desordenados = [\n",
        "    (\"codigo3\", \"matriculaC\"),\n",
        "    (\"codigo1\", \"matriculaA\"),\n",
        "    (\"codigo2\", \"matriculaB\")\n",
        "]\n",
        "\n",
        "funcionarios_ordenados = ordenar_funcionarios(funcionarios_desordenados)\n",
        "print(funcionarios_ordenados)\n"
      ],
      "metadata": {
        "id": "ZqfqKJhgiig7",
        "outputId": "8be98f08-cb70-46e9-bfb7-afda4bcf609a",
        "colab": {
          "base_uri": "https://localhost:8080/"
        }
      },
      "execution_count": null,
      "outputs": [
        {
          "output_type": "stream",
          "name": "stdout",
          "text": [
            "[('codigo1', 'matriculaA'), ('codigo2', 'matriculaB'), ('codigo3', 'matriculaC')]\n"
          ]
        }
      ]
    },
    {
      "cell_type": "markdown",
      "source": [],
      "metadata": {
        "id": "G1lHOdkRwYIw"
      }
    },
    {
      "cell_type": "code",
      "source": [
        "dados = {\"Rex\": [\"biscoito\", \"ração\", \"água\"], \"Fifi\": [\"ração\", \"água\"]} #estutura de dados de informação da refeições dos animais\n",
        "caes = list(dados.keys())\n",
        "j = 0\n",
        "while j < len(caes): #chave que indica o nome do cachorro\n",
        "  cao = caes[j]\n",
        "  print('A última refeição do %s foi: ' % cao)\n",
        "  i = 0\n",
        "  while i < len(dados[cao]): #chave que indica elementos que compõe a refeição\n",
        "    print(dados[cao][i])\n",
        "    i += 1\n",
        "  print (\"\")\n",
        "  j += 1"
      ],
      "metadata": {
        "colab": {
          "base_uri": "https://localhost:8080/"
        },
        "id": "75aDMiRVhacS",
        "outputId": "d3f08102-9fdb-45c2-bc64-b59b577c77f2"
      },
      "execution_count": null,
      "outputs": [
        {
          "output_type": "stream",
          "name": "stdout",
          "text": [
            "A última refeição do Rex foi: \n",
            "biscoito\n",
            "ração\n",
            "água\n",
            "\n",
            "A última refeição do Fifi foi: \n",
            "ração\n",
            "água\n",
            "\n"
          ]
        }
      ]
    },
    {
      "cell_type": "markdown",
      "source": [],
      "metadata": {
        "id": "U-jsqhYMhHYq"
      }
    },
    {
      "cell_type": "code",
      "source": [
        "palavra = \"anaconda\"\n",
        "i = 0\n",
        "while i <=len(palavra):\n",
        "  for j in range(i):\n",
        "    print(palavra[j], end='')\n",
        "  print(\"\")\n",
        "  i += 1\n"
      ],
      "metadata": {
        "colab": {
          "base_uri": "https://localhost:8080/"
        },
        "id": "RMWdWkMOmDR5",
        "outputId": "63880b24-ba2b-4cc2-9b91-4b15844ba3da"
      },
      "execution_count": null,
      "outputs": [
        {
          "output_type": "stream",
          "name": "stdout",
          "text": [
            "\n",
            "a\n",
            "an\n",
            "ana\n",
            "anac\n",
            "anaco\n",
            "anacon\n",
            "anacond\n",
            "anaconda\n"
          ]
        }
      ]
    },
    {
      "cell_type": "code",
      "source": [
        "import pprint\n",
        "pp = pprint.PrettyPrinter(indent=2, width=20)\n",
        "matriz = []\n",
        "num_linhas = 3\n",
        "num_colunas = 3\n",
        "valor_inicial = 10\n",
        "incremento = 5\n",
        "iteracao = 1\n",
        "print ()"
      ],
      "metadata": {
        "id": "nJlKXNYFnvAI"
      },
      "execution_count": null,
      "outputs": []
    },
    {
      "cell_type": "code",
      "source": [
        "contador = 1\n",
        "while contador <20:\n",
        "  contador +=1\n",
        "while contador <10:\n",
        "  print ('Você pode entrar')\n",
        "print ('Deve retornar outro dia')"
      ],
      "metadata": {
        "colab": {
          "base_uri": "https://localhost:8080/"
        },
        "id": "u4eI7fBzp5yz",
        "outputId": "5b772fa4-d732-47f7-ddc9-96c357acc751"
      },
      "execution_count": null,
      "outputs": [
        {
          "output_type": "stream",
          "name": "stdout",
          "text": [
            "Deve retornar outro dia\n"
          ]
        }
      ]
    },
    {
      "cell_type": "code",
      "source": [
        "# Definindo uma matriz 3x3\n",
        "matriz = [[1, 2, 3],\n",
        "          [4, 5, 6],\n",
        "          [7, 8, 9]]\n",
        "\n",
        "# Acessando elementos da matriz\n",
        "print(matriz[0][0])  # Saída: 1\n",
        "print(matriz[1][2])  # Saída: 6\n",
        "\n",
        "# Iterando sobre a matriz\n",
        "for linha in matriz:\n",
        "    for elemento in linha:\n",
        "        print(elemento, end=\" \")\n",
        "    print()  # Para pular para a próxima linha após imprimir uma linha completa\n"
      ],
      "metadata": {
        "colab": {
          "base_uri": "https://localhost:8080/"
        },
        "id": "iMcPxJcj89jw",
        "outputId": "7d7c3864-8fe8-4993-d237-e9cbeb66fbc0"
      },
      "execution_count": null,
      "outputs": [
        {
          "output_type": "stream",
          "name": "stdout",
          "text": [
            "1\n",
            "6\n",
            "1 2 3 \n",
            "4 5 6 \n",
            "7 8 9 \n"
          ]
        }
      ]
    },
    {
      "cell_type": "code",
      "source": [
        "#Crie um programa que crie uma matriz de dimensão 3X3 e preencha com valores lidos pelo teclado.\n",
        "#No final, mostre a matriz na tela, com a formatação correta\n",
        "\n",
        "matriz = [[0,0,0], [0,0,0], [0,0,0],]\n",
        "for l in range (0,3):\n",
        "  for c in range (0,3):\n",
        "      matriz[l][c] = int(input(f'Digite um valor para [{l}] [{c}]: '))\n",
        "print ('-=' * 30)\n",
        "for l in range (0,3):\n",
        "  for c in range (0,3):\n",
        "      print (f' [{matriz [l][c]: ^5}]', end='')\n",
        "  print()\n",
        "\n"
      ],
      "metadata": {
        "colab": {
          "base_uri": "https://localhost:8080/"
        },
        "id": "tWYZYzuE9fPt",
        "outputId": "e9bbfce4-e434-4cc7-ea34-03dde1bb2448"
      },
      "execution_count": null,
      "outputs": [
        {
          "output_type": "stream",
          "name": "stdout",
          "text": [
            "Digite um valor para [0] [0]: 1\n",
            "Digite um valor para [0] [1]: 2\n",
            "Digite um valor para [0] [2]: 3\n",
            "Digite um valor para [1] [0]: 4\n",
            "Digite um valor para [1] [1]: 5\n",
            "Digite um valor para [1] [2]: 6\n",
            "Digite um valor para [2] [0]: 7\n",
            "Digite um valor para [2] [1]: 8\n",
            "Digite um valor para [2] [2]: 9\n",
            "-=-=-=-=-=-=-=-=-=-=-=-=-=-=-=-=-=-=-=-=-=-=-=-=-=-=-=-=-=-=\n",
            " [1] [2] [3]\n",
            " [4] [5] [6]\n",
            " [7] [8] [9]\n"
          ]
        }
      ]
    },
    {
      "cell_type": "code",
      "source": [],
      "metadata": {
        "id": "Z2hE0Ph_B58r"
      },
      "execution_count": null,
      "outputs": []
    },
    {
      "cell_type": "markdown",
      "source": [
        "**Listas**\n"
      ],
      "metadata": {
        "id": "QhzzN-WNhJnU"
      }
    },
    {
      "cell_type": "code",
      "source": [
        "#Lista é um container que armazena objetos em uma ordem específica\n",
        "\n",
        "fruit = list()\n",
        "list"
      ],
      "metadata": {
        "colab": {
          "base_uri": "https://localhost:8080/"
        },
        "id": "-N472MBbhLsg",
        "outputId": "360c7f8f-4a11-4db7-a795-9ab000f07db8"
      },
      "execution_count": null,
      "outputs": [
        {
          "output_type": "execute_result",
          "data": {
            "text/plain": [
              "list"
            ]
          },
          "metadata": {},
          "execution_count": 1
        }
      ]
    },
    {
      "cell_type": "code",
      "source": [
        "fruit = []\n",
        "fruit\n"
      ],
      "metadata": {
        "colab": {
          "base_uri": "https://localhost:8080/"
        },
        "id": "QmU2TmXFhcNH",
        "outputId": "6da0ac19-1506-4f56-8d5e-a6964d9c2bfd"
      },
      "execution_count": null,
      "outputs": [
        {
          "output_type": "execute_result",
          "data": {
            "text/plain": [
              "[]"
            ]
          },
          "metadata": {},
          "execution_count": 2
        }
      ]
    },
    {
      "cell_type": "code",
      "source": [
        "fruit = [\"Apple\", \"Orange\", \"Pear\"]\n",
        "fruit\n"
      ],
      "metadata": {
        "colab": {
          "base_uri": "https://localhost:8080/"
        },
        "id": "sLAXcVuMhgmk",
        "outputId": "cf3eba92-98c9-4787-faf0-5b28e4c2aacb"
      },
      "execution_count": null,
      "outputs": [
        {
          "output_type": "execute_result",
          "data": {
            "text/plain": [
              "['Apple', 'Orange', 'Pear']"
            ]
          },
          "metadata": {},
          "execution_count": 3
        }
      ]
    },
    {
      "cell_type": "code",
      "source": [
        "fruit = [\"Apple\", \"Orange\", \"Banana\"]\n",
        "fruit.append (\"Banana\")\n",
        "fruit.append (\"Pear\")\n",
        "fruit"
      ],
      "metadata": {
        "colab": {
          "base_uri": "https://localhost:8080/"
        },
        "id": "kYEjSWxPh4w8",
        "outputId": "96c1616a-9ae9-4502-e973-e477ad2cd210"
      },
      "execution_count": null,
      "outputs": [
        {
          "output_type": "execute_result",
          "data": {
            "text/plain": [
              "['Apple', 'Orange', 'Banana', 'Banana', 'Pear']"
            ]
          },
          "metadata": {},
          "execution_count": 5
        }
      ]
    },
    {
      "cell_type": "code",
      "source": [
        "fruit = [\"Apple\", \"Orange\", \"Banana\"]\n",
        "fruit[0]\n",
        "fruit[1]\n",
        "fruit[2]"
      ],
      "metadata": {
        "colab": {
          "base_uri": "https://localhost:8080/",
          "height": 35
        },
        "id": "3vm-DD5DjG34",
        "outputId": "8b68ffd2-bf9e-493e-9360-da727c8b6021"
      },
      "execution_count": null,
      "outputs": [
        {
          "output_type": "execute_result",
          "data": {
            "text/plain": [
              "'Banana'"
            ],
            "application/vnd.google.colaboratory.intrinsic+json": {
              "type": "string"
            }
          },
          "metadata": {},
          "execution_count": 8
        }
      ]
    },
    {
      "cell_type": "markdown",
      "source": [
        "Listas são mutáveis"
      ],
      "metadata": {
        "id": "f1BMLXrmjcEE"
      }
    },
    {
      "cell_type": "code",
      "source": [
        "colors = [\"blue\", \"green\", \"yellow\"]\n",
        "colors\n",
        "colors[2] = \"red\"\n",
        "colors"
      ],
      "metadata": {
        "colab": {
          "base_uri": "https://localhost:8080/"
        },
        "id": "rc-KAZEZjgQb",
        "outputId": "e877860f-187b-4b33-a6a8-54c20e53f615"
      },
      "execution_count": null,
      "outputs": [
        {
          "output_type": "execute_result",
          "data": {
            "text/plain": [
              "['blue', 'green', 'red']"
            ]
          },
          "metadata": {},
          "execution_count": 10
        }
      ]
    },
    {
      "cell_type": "code",
      "source": [
        "colors = [\"blue\", \"green\", \"yellow\"]\n",
        "colors\n",
        "colors.pop()\n",
        "colors"
      ],
      "metadata": {
        "colab": {
          "base_uri": "https://localhost:8080/"
        },
        "id": "c3_LXo92jxlM",
        "outputId": "6f59b2b6-83c0-467e-e1b3-bf2341f3c8b1"
      },
      "execution_count": null,
      "outputs": [
        {
          "output_type": "execute_result",
          "data": {
            "text/plain": [
              "['blue', 'green']"
            ]
          },
          "metadata": {},
          "execution_count": 12
        }
      ]
    },
    {
      "cell_type": "code",
      "source": [
        "lista_anos = [1975, 1992, 1970, 1982]\n",
        "lista_anos.sort()\n",
        "lista_anos"
      ],
      "metadata": {
        "colab": {
          "base_uri": "https://localhost:8080/"
        },
        "id": "nowgzZYMkXoW",
        "outputId": "c3286f6f-ce19-42ff-bcbe-997b7b996232"
      },
      "execution_count": null,
      "outputs": [
        {
          "output_type": "execute_result",
          "data": {
            "text/plain": [
              "[1970, 1975, 1982, 1992]"
            ]
          },
          "metadata": {},
          "execution_count": 13
        }
      ]
    },
    {
      "cell_type": "code",
      "source": [
        "funcionarios_desordenados = [5,3,1,2,4]\n",
        "funcionarios_desordenados.sort()\n",
        "funcionarios_desordenados\n"
      ],
      "metadata": {
        "colab": {
          "base_uri": "https://localhost:8080/"
        },
        "id": "CzsOo-qiki9b",
        "outputId": "d42d4ee9-2428-46bc-f9fd-d441aa3fe8db"
      },
      "execution_count": null,
      "outputs": [
        {
          "output_type": "execute_result",
          "data": {
            "text/plain": [
              "[1, 2, 3, 4, 5]"
            ]
          },
          "metadata": {},
          "execution_count": 14
        }
      ]
    },
    {
      "cell_type": "code",
      "source": [
        "dados_func = [\n",
        "    (\"codigo3\", \"matriculaC\"),\n",
        "    (\"codigo1\", \"matriculaA\"),\n",
        "    (\"codigo2\", \"matriculaB\")\n",
        "]\n",
        "\n",
        "dados_func.sort()\n",
        "dados_func"
      ],
      "metadata": {
        "colab": {
          "base_uri": "https://localhost:8080/"
        },
        "id": "xCBI2TyilTIC",
        "outputId": "42c6efb7-eb2f-4c5c-c3a6-7e290a58ec22"
      },
      "execution_count": null,
      "outputs": [
        {
          "output_type": "execute_result",
          "data": {
            "text/plain": [
              "[('codigo1', 'matriculaA'),\n",
              " ('codigo2', 'matriculaB'),\n",
              " ('codigo3', 'matriculaC')]"
            ]
          },
          "metadata": {},
          "execution_count": 16
        }
      ]
    },
    {
      "cell_type": "markdown",
      "source": [
        "Condição IF\n"
      ],
      "metadata": {
        "id": "SC5QUWcwwZ07"
      }
    },
    {
      "cell_type": "code",
      "source": [
        "temperatura = 35\n",
        "if temperatura > 30:\n",
        "    estaCalor = True\n"
      ],
      "metadata": {
        "id": "2gTUGLVWwg--"
      },
      "execution_count": 2,
      "outputs": []
    },
    {
      "cell_type": "code",
      "source": [
        "nome = input('Olá, qual o seu nome?')\n",
        "if nome == 'Lucas':\n",
        "  print('Olá, %s' % nome)\n",
        "else:\n",
        "  print('Olá visitante')"
      ],
      "metadata": {
        "colab": {
          "base_uri": "https://localhost:8080/"
        },
        "id": "Ow5fsBEk0KSs",
        "outputId": "6fecef8f-10f1-487e-fe0d-02ce613368ef"
      },
      "execution_count": 4,
      "outputs": [
        {
          "output_type": "stream",
          "name": "stdout",
          "text": [
            "Olá, qual o seu nome?Fernanda\n",
            "Olá, Fernanda\n"
          ]
        }
      ]
    },
    {
      "cell_type": "code",
      "source": [
        "nome = input('Olá, qual o seu nome?')\n",
        "if nome == 'Lucas':\n",
        "  print('Olá, %s' % nome)\n",
        "elif nome == 'Mário':\n",
        "  print('Olá, Mário')\n",
        "elif nome == 'José':\n",
        "          print('Oi José')\n",
        "else:\n",
        "  print('Olá visitante')"
      ],
      "metadata": {
        "colab": {
          "base_uri": "https://localhost:8080/"
        },
        "id": "pyB6uLEG0tH-",
        "outputId": "462456a4-f868-4c81-9e57-517365dc39e0"
      },
      "execution_count": 7,
      "outputs": [
        {
          "output_type": "stream",
          "name": "stdout",
          "text": [
            "Olá, qual o seu nome?Fernanda\n",
            "Olá visitante\n"
          ]
        }
      ]
    },
    {
      "cell_type": "code",
      "source": [],
      "metadata": {
        "id": "C3Mcudvy1hFW"
      },
      "execution_count": null,
      "outputs": []
    }
  ]
}